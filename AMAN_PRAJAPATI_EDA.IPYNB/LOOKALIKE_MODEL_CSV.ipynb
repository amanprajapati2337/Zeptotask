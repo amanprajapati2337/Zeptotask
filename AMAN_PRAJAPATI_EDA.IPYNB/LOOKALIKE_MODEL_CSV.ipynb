{
 "cells": [
  {
   "cell_type": "code",
   "execution_count": 1,
   "id": "18edff7e",
   "metadata": {},
   "outputs": [],
   "source": [
    "import pandas as pd\n",
    "from sklearn.metrics.pairwise import cosine_similarity\n",
    "from sklearn.preprocessing import StandardScaler\n",
    "import matplotlib.pyplot as plt"
   ]
  },
  {
   "cell_type": "code",
   "execution_count": 2,
   "id": "13288078",
   "metadata": {},
   "outputs": [],
   "source": [
    "customers = pd.read_csv('Customers.csv')\n",
    "products = pd.read_csv('Products.csv')"
   ]
  },
  {
   "cell_type": "code",
   "execution_count": 7,
   "id": "fac1309a",
   "metadata": {},
   "outputs": [],
   "source": [
    "customers['SignupYear'] = pd.to_datetime(customers['SignupDate']).dt.year\n",
    "customers['Age'] = 2025 - customers['SignupYear']  # Replace 2025 with the current year\n"
   ]
  },
  {
   "cell_type": "code",
   "execution_count": 11,
   "id": "0fa99393",
   "metadata": {},
   "outputs": [],
   "source": [
    "customers['Income'] = customers['Region'].map({'Region1': 50000, 'Region2': 60000}).fillna(55000)\n"
   ]
  },
  {
   "cell_type": "code",
   "execution_count": 8,
   "id": "8d95c24d",
   "metadata": {},
   "outputs": [],
   "source": [
    "customer_features = customers[['CustomerID', 'Region', 'Age']]"
   ]
  },
  {
   "cell_type": "code",
   "execution_count": 12,
   "id": "8764d80b",
   "metadata": {},
   "outputs": [
    {
     "name": "stderr",
     "output_type": "stream",
     "text": [
      "C:\\Users\\amanp\\AppData\\Local\\Temp/ipykernel_4288/3897186950.py:2: SettingWithCopyWarning: \n",
      "A value is trying to be set on a copy of a slice from a DataFrame.\n",
      "Try using .loc[row_indexer,col_indexer] = value instead\n",
      "\n",
      "See the caveats in the documentation: https://pandas.pydata.org/pandas-docs/stable/user_guide/indexing.html#returning-a-view-versus-a-copy\n",
      "  customer_features['TotalSpent'] = customers['Income'] * 0.1  # Placeholder\n",
      "C:\\Users\\amanp\\AppData\\Local\\Temp/ipykernel_4288/3897186950.py:3: SettingWithCopyWarning: \n",
      "A value is trying to be set on a copy of a slice from a DataFrame.\n",
      "Try using .loc[row_indexer,col_indexer] = value instead\n",
      "\n",
      "See the caveats in the documentation: https://pandas.pydata.org/pandas-docs/stable/user_guide/indexing.html#returning-a-view-versus-a-copy\n",
      "  customer_features['TransactionCount'] = customers['Age'] % 5 + 1  # Placeholder\n"
     ]
    }
   ],
   "source": [
    "# Simulated Example for Transaction Aggregates\n",
    "customer_features['TotalSpent'] = customers['Income'] * 0.1  # Placeholder\n",
    "customer_features['TransactionCount'] = customers['Age'] % 5 + 1  # Placeholder"
   ]
  },
  {
   "cell_type": "code",
   "execution_count": 14,
   "id": "76226d9d",
   "metadata": {},
   "outputs": [],
   "source": [
    "customer_features_encoded = pd.get_dummies(customer_features, columns=['Region'], drop_first=True)\n"
   ]
  },
  {
   "cell_type": "code",
   "execution_count": 15,
   "id": "27a264cf",
   "metadata": {},
   "outputs": [
    {
     "name": "stderr",
     "output_type": "stream",
     "text": [
      "C:\\Users\\amanp\\AppData\\Local\\Temp/ipykernel_4288/3444557086.py:4: SettingWithCopyWarning: \n",
      "A value is trying to be set on a copy of a slice from a DataFrame.\n",
      "Try using .loc[row_indexer,col_indexer] = value instead\n",
      "\n",
      "See the caveats in the documentation: https://pandas.pydata.org/pandas-docs/stable/user_guide/indexing.html#returning-a-view-versus-a-copy\n",
      "  customer_features['Region'] = label_encoder.fit_transform(customer_features['Region'])\n"
     ]
    }
   ],
   "source": [
    "from sklearn.preprocessing import LabelEncoder\n",
    "\n",
    "label_encoder = LabelEncoder()\n",
    "customer_features['Region'] = label_encoder.fit_transform(customer_features['Region'])\n"
   ]
  },
  {
   "cell_type": "code",
   "execution_count": 16,
   "id": "15013d2e",
   "metadata": {},
   "outputs": [],
   "source": [
    "# Normalize the features for similarity calculation\n",
    "scaler = StandardScaler()\n",
    "customer_features_scaled = pd.DataFrame(\n",
    "    scaler.fit_transform(customer_features.iloc[:, 1:]),  # Exclude CustomerID from scaling\n",
    "    columns=customer_features.columns[1:],\n",
    "    index=customer_features['CustomerID']\n",
    ")"
   ]
  },
  {
   "cell_type": "code",
   "execution_count": 17,
   "id": "44b92014",
   "metadata": {},
   "outputs": [],
   "source": [
    "# Compute Similarity Matrix\n",
    "similarity_matrix = cosine_similarity(customer_features_scaled)\n",
    "similarity_df = pd.DataFrame(similarity_matrix, index=customer_features['CustomerID'], columns=customer_features['CustomerID'])"
   ]
  },
  {
   "cell_type": "code",
   "execution_count": 18,
   "id": "8bb96bed",
   "metadata": {},
   "outputs": [],
   "source": [
    "similarity_matrix = cosine_similarity(customer_features_scaled)\n",
    "similarity_df = pd.DataFrame(similarity_matrix, index=customer_features['CustomerID'], columns=customer_features['CustomerID'])"
   ]
  },
  {
   "cell_type": "code",
   "execution_count": 19,
   "id": "a54e8dd8",
   "metadata": {},
   "outputs": [],
   "source": [
    "# Finding top 3 lookalikes for the first 20 customers (CustomerID: C0001 - C0020)\n",
    "top_20_customers = customers.loc[customers['CustomerID'].str.startswith('C00'), 'CustomerID'][:20]\n",
    "lookalike_results = {}\n",
    "\n"
   ]
  },
  {
   "cell_type": "code",
   "execution_count": 20,
   "id": "02ff0347",
   "metadata": {},
   "outputs": [],
   "source": [
    "for cust_id in top_20_customers:\n",
    "    # Getting the similarity scores for the customer\n",
    "    similar_customers = similarity_df[cust_id].sort_values(ascending=False).iloc[1:4]  # Exclude the customer itself\n",
    "    lookalike_results[cust_id] = list(zip(similar_customers.index, similar_customers.values))\n",
    "\n"
   ]
  },
  {
   "cell_type": "code",
   "execution_count": 21,
   "id": "92bf1067",
   "metadata": {},
   "outputs": [],
   "source": [
    "# Preparing Lookalike.csv\n",
    "lookalike_df = pd.DataFrame({\n",
    "    'CustomerID': lookalike_results.keys(),\n",
    "    'Lookalikes': [str(v) for v in lookalike_results.values()]\n",
    "})"
   ]
  },
  {
   "cell_type": "code",
   "execution_count": null,
   "id": "e1a191a2",
   "metadata": {},
   "outputs": [],
   "source": []
  }
 ],
 "metadata": {
  "kernelspec": {
   "display_name": "Python 3 (ipykernel)",
   "language": "python",
   "name": "python3"
  },
  "language_info": {
   "codemirror_mode": {
    "name": "ipython",
    "version": 3
   },
   "file_extension": ".py",
   "mimetype": "text/x-python",
   "name": "python",
   "nbconvert_exporter": "python",
   "pygments_lexer": "ipython3",
   "version": "3.9.7"
  }
 },
 "nbformat": 4,
 "nbformat_minor": 5
}
